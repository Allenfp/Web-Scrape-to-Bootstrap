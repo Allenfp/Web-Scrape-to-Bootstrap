{
 "cells": [
  {
   "cell_type": "code",
   "execution_count": null,
   "metadata": {},
   "outputs": [],
   "source": [
    "import pandas as pd\n",
    "from splinter import Browser\n",
    "from bs4 import BeautifulSoup"
   ]
  },
  {
   "cell_type": "code",
   "execution_count": 2,
   "metadata": {},
   "outputs": [],
   "source": [
    "#### Scrape NASA Mars News Site and collect latest \n",
    "#### News Title and Paragraph Text.\n",
    "\n",
    "# Perform HTML Scrape via splinter and BeautifulSoup\n",
    "browser = Browser('chrome', headless=False)\n",
    "mars_news_url = 'https://mars.nasa.gov/news/'\n",
    "browser.visit(mars_news_url)\n",
    "html1 = browser.html\n",
    "soup1 = BeautifulSoup(html1, 'html.parser')\n",
    "browser.quit()"
   ]
  },
  {
   "cell_type": "code",
   "execution_count": 3,
   "metadata": {},
   "outputs": [],
   "source": [
    "# Eliminate unwanted text using BeautifulSoup\n",
    "title = soup1.find('div', class_='content_title')\n",
    "news_title = str(title).split('elf\">')[1].split('</a>')[0]\n",
    "news = soup1.find('div', class_='article_teaser_body')\n",
    "news_p = str(news).split('ody\">')[1].split('</div')[0]"
   ]
  },
  {
   "cell_type": "code",
   "execution_count": 4,
   "metadata": {},
   "outputs": [],
   "source": [
    "#### Scrape NASA Jet Propulsion Lab's martian website\n",
    "#### for latest featured image. \n",
    "browser = Browser('chrome', headless=False)\n",
    "jpl_url = 'https://www.jpl.nasa.gov/spaceimages/?search=&category=Mars'\n",
    "browser.visit(jpl_url)\n",
    "html2 = browser.html\n",
    "soup2 = BeautifulSoup(html2, 'html.parser')\n",
    "browser.quit()"
   ]
  },
  {
   "cell_type": "code",
   "execution_count": 5,
   "metadata": {},
   "outputs": [],
   "source": [
    "# Eliminate unwated text using BeautifulSoup\n",
    "featured_image = soup2.find('div', class_='carousel_items')\n",
    "featured_image_url = \"https://www.jpl.nasa.gov/\" + str(featured_image).split(\"url('/\")[1].split(\"');\")[0]"
   ]
  },
  {
   "cell_type": "code",
   "execution_count": 6,
   "metadata": {},
   "outputs": [],
   "source": [
    "#### Scrape the Mars Weather twitter account for the most recent\n",
    "#### martian weather.\n",
    "browser = Browser('chrome', headless=False)\n",
    "weather_url = 'https://twitter.com/marswxreport?lang=en'\n",
    "browser.visit(weather_url)\n",
    "html3 = browser.html\n",
    "soup3 = BeautifulSoup(html3, 'html.parser')\n",
    "browser.quit()"
   ]
  },
  {
   "cell_type": "code",
   "execution_count": 7,
   "metadata": {},
   "outputs": [],
   "source": [
    "# Isolate tweet text and check to ensure that the tweet does indeed contain\n",
    "# martian weather information. \n",
    "weather = soup3.findAll(\"p\",class_=\"TweetTextSize TweetTextSize--normal js-tweet-text tweet-text\")\n",
    "tweet_list = []\n",
    "mars_weather = \"\"\n",
    "for data in weather:\n",
    "    tweet_list.append(str(data))\n",
    "for data in tweet_list:\n",
    "    if data.split('=\"en\">')[1].split('</p>')[0].startswith(\"Sol\") == True:\n",
    "        mars_weather = data.split('=\"en\">')[1].split('</p>')[0]\n",
    "        break\n",
    "    else:\n",
    "        pass"
   ]
  },
  {
   "cell_type": "code",
   "execution_count": 14,
   "metadata": {},
   "outputs": [],
   "source": [
    "#### Scrape Mars facts table and export it to a html table using pandas.\n",
    "mars_facts_df = pd.read_html('https://space-facts.com/mars/')\n",
    "mars_facts_df[0].to_html('mars_facts.html', header=False)"
   ]
  },
  {
   "cell_type": "code",
   "execution_count": 9,
   "metadata": {},
   "outputs": [],
   "source": [
    "#### Scrape the USGS Astrogeology website for Martian Hemisphere images and\n",
    "#### titles.\n",
    "    \n",
    "browser = Browser('chrome', headless=False)\n",
    "hemisphere_url = 'https://astrogeology.usgs.gov/search/results?q=hemisphere+enhanced&k1=target&v1=Mars'\n",
    "browser.visit(hemisphere_url)\n",
    "html4 = browser.html\n",
    "soup4 = BeautifulSoup(html4, 'html.parser')\n",
    "\n",
    "hemispheres = soup4.findAll('div', class_='description')\n",
    "browser.quit()"
   ]
  },
  {
   "cell_type": "code",
   "execution_count": 10,
   "metadata": {},
   "outputs": [],
   "source": [
    "hemisphere_links = []\n",
    "for sphere in hemispheres:\n",
    "    hemisphere_links.append('https://astrogeology.usgs.gov' + str(sphere).split('href=\"')[1].split('\"><h3>')[0])"
   ]
  },
  {
   "cell_type": "code",
   "execution_count": 11,
   "metadata": {},
   "outputs": [
    {
     "data": {
      "text/plain": [
       "[{'img_url': 'http://astropedia.astrogeology.usgs.gov/download/Mars/Viking/cerberus_enhanced.tif',\n",
       "  'title': 'Cerberus Hemisphere'},\n",
       " {'img_url': 'http://astropedia.astrogeology.usgs.gov/download/Mars/Viking/schiaparelli_enhanced.tif',\n",
       "  'title': 'Schiaparelli Hemisphere'},\n",
       " {'img_url': 'http://astropedia.astrogeology.usgs.gov/download/Mars/Viking/syrtis_major_enhanced.tif',\n",
       "  'title': 'Syrtis Major Hemisphere'},\n",
       " {'img_url': 'http://astropedia.astrogeology.usgs.gov/download/Mars/Viking/valles_marineris_enhanced.tif',\n",
       "  'title': 'Valles Marineris Hemisphere'}]"
      ]
     },
     "execution_count": 11,
     "metadata": {},
     "output_type": "execute_result"
    }
   ],
   "source": [
    "hemisphere_image_urls = []\n",
    "\n",
    "for link in hemisphere_links:\n",
    "    browser = Browser('chrome', headless=False)\n",
    "    browser.visit(link)\n",
    "    htmlx = browser.html\n",
    "    soupx = BeautifulSoup(htmlx, 'html.parser')\n",
    "    tempx = soupx.findAll(\"div\", class_=\"content\")    \n",
    "    hemisphere_image_urls.append({\n",
    "            \"title\" : str(tempx).split('\"title\">')[1].split(' Enhanced<')[0],\n",
    "            \"img_url\" : str(tempx).split('Filename</dt><dd><a href=\"')[1].split('\">')[0]\n",
    "        })\n",
    "    browser.quit()"
   ]
  },
  {
   "cell_type": "code",
   "execution_count": null,
   "metadata": {},
   "outputs": [],
   "source": []
  },
  {
   "cell_type": "code",
   "execution_count": null,
   "metadata": {},
   "outputs": [],
   "source": []
  }
 ],
 "metadata": {
  "kernelspec": {
   "display_name": "Python 3",
   "language": "python",
   "name": "python3"
  },
  "language_info": {
   "codemirror_mode": {
    "name": "ipython",
    "version": 3
   },
   "file_extension": ".py",
   "mimetype": "text/x-python",
   "name": "python",
   "nbconvert_exporter": "python",
   "pygments_lexer": "ipython3",
   "version": "3.6.3"
  }
 },
 "nbformat": 4,
 "nbformat_minor": 2
}
